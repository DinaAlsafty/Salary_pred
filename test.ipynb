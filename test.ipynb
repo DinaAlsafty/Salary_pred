{
 "cells": [
  {
   "cell_type": "code",
   "execution_count": 1,
   "metadata": {},
   "outputs": [],
   "source": [
    "import pandas as pd\n",
    "import joblib"
   ]
  },
  {
   "cell_type": "code",
   "execution_count": 2,
   "metadata": {},
   "outputs": [],
   "source": [
    "# inputs = joblib.load('inputs.pkl')\n",
    "# df_new = pd.DataFrame(columns = inputs)"
   ]
  },
  {
   "cell_type": "code",
   "execution_count": 3,
   "metadata": {},
   "outputs": [],
   "source": [
    "# df_new['Gender'] = df_new['Gender'].astype(str)\n",
    "# df_new['percentage_10'] = df_new['percentage_10'].astype(float)\n",
    "# df_new['board_10'] = df_new['board_10'].astype(str)\n",
    "# df_new['graduation_12'] = df_new['graduation_12'].astype(str)\n",
    "# df_new['percentage_12'] = df_new['percentage_12'].astype(float)\n",
    "# df_new['board_12'] = df_new['board_12'].astype(str)\n",
    "# df_new['CollegeTier'] = df_new['CollegeTier'].astype(str)\n",
    "# df_new['Degree'] = df_new['Degree'].astype(str)\n",
    "# df_new['Specialization'] = df_new['Specialization'].astype(str)\n",
    "# df_new['collegeGPA'] = df_new['collegeGPA'].astype(float)\n",
    "# df_new['CollegeCityTier'] = df_new['CollegeCityTier'].astype(float)\n",
    "# df_new['CollegeState'] = df_new['CollegeState'].astype(str)\n",
    "# df_new['GraduationYear'] = df_new['GraduationYear'].astype(str)\n",
    "# df_new['English'] = df_new['English'].astype(float)\n",
    "# df_new['Logical'] = df_new['Logical'].astype(float)\n",
    "# df_new['Quant'] = df_new['Quant'].astype(float)\n",
    "# df_new['Domain'] = df_new['Domain'].astype(float)\n",
    "# df_new['conscientiousness'] = df_new['conscientiousness'].astype(float)\n",
    "# df_new['agreeableness'] = df_new['agreeableness'].astype(float)\n",
    "# df_new['extraversion'] = df_new['extraversion'].astype(float)\n",
    "# df_new['nueroticism'] = df_new['nueroticism'].astype(float)\n",
    "# df_new['openess_to_experience'] = df_new['openess_to_experience'].astype(float)\n",
    "# df_new['Age'] = df_new['Age'].astype(float)\n",
    "# df_new['department_score'] = df_new['department_score'].astype(float)\n"
   ]
  },
  {
   "cell_type": "code",
   "execution_count": 4,
   "metadata": {},
   "outputs": [
    {
     "data": {
      "text/html": [
       "<div>\n",
       "<style scoped>\n",
       "    .dataframe tbody tr th:only-of-type {\n",
       "        vertical-align: middle;\n",
       "    }\n",
       "\n",
       "    .dataframe tbody tr th {\n",
       "        vertical-align: top;\n",
       "    }\n",
       "\n",
       "    .dataframe thead th {\n",
       "        text-align: right;\n",
       "    }\n",
       "</style>\n",
       "<table border=\"1\" class=\"dataframe\">\n",
       "  <thead>\n",
       "    <tr style=\"text-align: right;\">\n",
       "      <th></th>\n",
       "      <th>Gender</th>\n",
       "      <th>percentage_10</th>\n",
       "      <th>board_10</th>\n",
       "      <th>graduation_12</th>\n",
       "      <th>percentage_12</th>\n",
       "      <th>board_12</th>\n",
       "      <th>CollegeTier</th>\n",
       "      <th>Degree</th>\n",
       "      <th>Specialization</th>\n",
       "      <th>collegeGPA</th>\n",
       "      <th>...</th>\n",
       "      <th>Logical</th>\n",
       "      <th>Quant</th>\n",
       "      <th>Domain</th>\n",
       "      <th>conscientiousness</th>\n",
       "      <th>agreeableness</th>\n",
       "      <th>extraversion</th>\n",
       "      <th>nueroticism</th>\n",
       "      <th>openess_to_experience</th>\n",
       "      <th>Age</th>\n",
       "      <th>department_score</th>\n",
       "    </tr>\n",
       "  </thead>\n",
       "  <tbody>\n",
       "    <tr>\n",
       "      <th>0</th>\n",
       "      <td>m</td>\n",
       "      <td>85.0</td>\n",
       "      <td>CBSE</td>\n",
       "      <td>2018</td>\n",
       "      <td>75.0</td>\n",
       "      <td>State Board</td>\n",
       "      <td>1</td>\n",
       "      <td>B.Tech/B.E.</td>\n",
       "      <td>electronics engineering</td>\n",
       "      <td>8.5</td>\n",
       "      <td>...</td>\n",
       "      <td>88.0</td>\n",
       "      <td>92.5</td>\n",
       "      <td>78.0</td>\n",
       "      <td>0.75</td>\n",
       "      <td>0.85</td>\n",
       "      <td>0.70</td>\n",
       "      <td>0.65</td>\n",
       "      <td>0.88</td>\n",
       "      <td>23.0</td>\n",
       "      <td>375</td>\n",
       "    </tr>\n",
       "    <tr>\n",
       "      <th>1</th>\n",
       "      <td>f</td>\n",
       "      <td>92.5</td>\n",
       "      <td>ICSE</td>\n",
       "      <td>2019</td>\n",
       "      <td>80.5</td>\n",
       "      <td>ISC</td>\n",
       "      <td>2</td>\n",
       "      <td>M.Tech./M.E.</td>\n",
       "      <td>computer engineering</td>\n",
       "      <td>9.0</td>\n",
       "      <td>...</td>\n",
       "      <td>92.0</td>\n",
       "      <td>87.0</td>\n",
       "      <td>80.5</td>\n",
       "      <td>0.80</td>\n",
       "      <td>0.78</td>\n",
       "      <td>0.82</td>\n",
       "      <td>0.75</td>\n",
       "      <td>0.92</td>\n",
       "      <td>24.0</td>\n",
       "      <td>400</td>\n",
       "    </tr>\n",
       "  </tbody>\n",
       "</table>\n",
       "<p>2 rows × 24 columns</p>\n",
       "</div>"
      ],
      "text/plain": [
       "  Gender  percentage_10 board_10 graduation_12  percentage_12     board_12   \n",
       "0      m           85.0     CBSE          2018           75.0  State Board  \\\n",
       "1      f           92.5     ICSE          2019           80.5          ISC   \n",
       "\n",
       "  CollegeTier        Degree           Specialization  collegeGPA  ...   \n",
       "0           1   B.Tech/B.E.  electronics engineering         8.5  ...  \\\n",
       "1           2  M.Tech./M.E.     computer engineering         9.0  ...   \n",
       "\n",
       "   Logical Quant Domain  conscientiousness  agreeableness  extraversion   \n",
       "0     88.0  92.5   78.0               0.75           0.85          0.70  \\\n",
       "1     92.0  87.0   80.5               0.80           0.78          0.82   \n",
       "\n",
       "   nueroticism  openess_to_experience   Age  department_score  \n",
       "0         0.65                   0.88  23.0               375  \n",
       "1         0.75                   0.92  24.0               400  \n",
       "\n",
       "[2 rows x 24 columns]"
      ]
     },
     "execution_count": 4,
     "metadata": {},
     "output_type": "execute_result"
    }
   ],
   "source": [
    "import pandas as pd\n",
    "import numpy as np\n",
    "\n",
    "# Example data\n",
    "data = {\n",
    "    'Gender': ['m', 'f'],\n",
    "    'percentage_10': [85.0, 92.5],\n",
    "    'board_10': ['CBSE', 'ICSE'],\n",
    "    'graduation_12': ['2018', '2019'],\n",
    "    'percentage_12': [75.0, 80.5],\n",
    "    'board_12': ['State Board', 'ISC'],\n",
    "    'CollegeTier': ['1', '2'],\n",
    "    'Degree': ['B.Tech/B.E.', 'M.Tech./M.E.'],\n",
    "    'Specialization': ['electronics engineering', 'computer engineering'],\n",
    "    'collegeGPA': [8.5, 9.0],\n",
    "    'CollegeCityTier': [1.0, 2.0],\n",
    "    'CollegeState': ['Maharashtra', 'Karnataka'],\n",
    "    'GraduationYear': ['2022', '2021'],\n",
    "    'English': [90.0, 85.5],\n",
    "    'Logical': [88.0, 92.0],\n",
    "    'Quant': [92.5, 87.0],\n",
    "    'Domain': [78.0, 80.5],\n",
    "    'conscientiousness': [0.75, 0.80],\n",
    "    'agreeableness': [0.85, 0.78],\n",
    "    'extraversion': [0.70, 0.82],\n",
    "    'nueroticism': [0.65, 0.75],\n",
    "    'openess_to_experience': [0.88, 0.92],\n",
    "    'Age': [23.0, 24.0],\n",
    "    'department_score': [375, 400]\n",
    "}\n",
    "\n",
    "# Create a DataFrame\n",
    "df_new = pd.DataFrame(data)\n",
    "\n",
    "# Display the DataFrame\n",
    "df_new"
   ]
  },
  {
   "cell_type": "code",
   "execution_count": 5,
   "metadata": {},
   "outputs": [],
   "source": [
    "new = df_new.iloc[0].values"
   ]
  },
  {
   "cell_type": "code",
   "execution_count": 6,
   "metadata": {},
   "outputs": [
    {
     "data": {
      "text/plain": [
       "array(['m', 85.0, 'CBSE', '2018', 75.0, 'State Board', '1', 'B.Tech/B.E.',\n",
       "       'electronics engineering', 8.5, 1.0, 'Maharashtra', '2022', 90.0,\n",
       "       88.0, 92.5, 78.0, 0.75, 0.85, 0.7, 0.65, 0.88, 23.0, 375],\n",
       "      dtype=object)"
      ]
     },
     "execution_count": 6,
     "metadata": {},
     "output_type": "execute_result"
    }
   ],
   "source": [
    "new"
   ]
  },
  {
   "cell_type": "code",
   "execution_count": 7,
   "metadata": {},
   "outputs": [],
   "source": [
    "from utils import process_new"
   ]
  },
  {
   "cell_type": "code",
   "execution_count": 8,
   "metadata": {},
   "outputs": [
    {
     "data": {
      "text/plain": [
       "array([18.94764983])"
      ]
     },
     "execution_count": 8,
     "metadata": {},
     "output_type": "execute_result"
    }
   ],
   "source": [
    "e = process_new(X_new=new)\n"
   ]
  },
  {
   "cell_type": "code",
   "execution_count": null,
   "metadata": {},
   "outputs": [],
   "source": []
  }
 ],
 "metadata": {
  "kernelspec": {
   "display_name": "base_new",
   "language": "python",
   "name": "python3"
  },
  "language_info": {
   "codemirror_mode": {
    "name": "ipython",
    "version": 3
   },
   "file_extension": ".py",
   "mimetype": "text/x-python",
   "name": "python",
   "nbconvert_exporter": "python",
   "pygments_lexer": "ipython3",
   "version": "3.10.9"
  }
 },
 "nbformat": 4,
 "nbformat_minor": 2
}
